{
 "cells": [
  {
   "cell_type": "markdown",
   "metadata": {},
   "source": [
    "<!-- dom:TITLE: Eksempel på bruk av numeriske skjema for å løse en differensiallikning for bakterievekts -->\n",
    "# Eksempel på bruk av numeriske skjema for å løse en differensiallikning for bakterievekts\n",
    "<!-- dom:AUTHOR: Hake -->\n",
    "<!-- Author: --> **Hake**\n",
    "\n",
    "Date: **05.06.2016**\n",
    "\n",
    "Vi ser på et enkelt skjema for å modellere bakterievekst.\n",
    "\n",
    "## Introduksjon\n",
    "\n",
    "Ofte kan vi ikke løse en differensiallikning eksakt. Da må vi bruke\n",
    "numeriske løsningsmetoder. Løsningene man da får blir en tilnærming av\n",
    "den eksakte løsningen. Det finnes flere ulike numeriske\n",
    "øsningsmeoder. Vi skall se nærmere på den enkleste som beskrives i\n",
    "SIGMA R2 s.198. Her kalles den tilvekstformeln, men i literaturen er\n",
    "den bedre kjendt som forover, eller eksplisitt Euler (forward/explicit\n",
    "Euler).\n",
    "\n",
    "## Differensiallikninger av første orden\n",
    "Her bruker vi en difer\n",
    "Følgende første orden differensiallikning beskriver bakterieinneholdet\n",
    "$y$ efter $x$ antall dager."
   ]
  },
  {
   "cell_type": "markdown",
   "metadata": {},
   "source": [
    "$$\n",
    "\\frac{dy}{dx} = k\\cdot y\\cdot(a-p\\,x)\n",
    "$$"
   ]
  },
  {
   "cell_type": "markdown",
   "metadata": {},
   "source": [
    "hvor $k$ er en proportionalitets konstant, $a$ er en tilvektskonstant,\n",
    "$p$ er hvor sterk antibiotikan er. Gjennom å bruke Leibniz's notation\n",
    "for den deriverte $\\frac{dy}{dx}$ kan vi direkte motivere hvordan vårt\n",
    "numeriske skjema skall se ut. Her er $dx$ og $dy$ uendeligt små. Men\n",
    "gjennom å dele in vårt $x$ domæne i et endeligt antal intervall med\n",
    "størrelse $dx=\\Delta x$, se figuren under, kan vi skrive\n",
    "likningen over som:"
   ]
  },
  {
   "cell_type": "markdown",
   "metadata": {},
   "source": [
    "$$\n",
    "\\frac{y_{i+1}-y_{i}}{\\Delta x} = k\\, y_i\\,(a-p\\,x_i)\n",
    "$$"
   ]
  },
  {
   "cell_type": "markdown",
   "metadata": {},
   "source": [
    "<!-- dom:FIGURE: [fig/x_linje.png, width=400 frac=0.6] En skematisk bild av en numerisk løsning av en differensiallikning. Løsningen er gitt på bestemte intervall $i$. Et numeriskt løsningsskjema gir oss $y_{i+1}$ fra $y_{i}$ og $\\Delta x$. -->\n",
    "<!-- begin figure -->\n",
    "\n",
    "<p>En skematisk bild av en numerisk løsning av en differensiallikning. Løsningen er gitt på bestemte intervall $i$. Et numeriskt løsningsskjema gir oss $y_{i+1}$ fra $y_{i}$ og $\\Delta x$.</p>\n",
    "<img src=\"fig/x_linje.png\" width=400>\n",
    "\n",
    "<!-- end figure -->\n",
    "\n",
    "\n",
    "## Implementasjon\n",
    "\n",
    "<!-- Note: Plain Markdown cannot refer to equations with numbers. -->\n",
    "<!-- This is a DocOnce extension. -->\n",
    "\n",
    "<!-- can be implemented as follows in a Python function: -->\n",
    "\n",
    "<!-- Next code (hidden code): -->\n",
    "<!-- Not strictly needed since zeros inside the next function -->\n",
    "<!-- is not called before the main program has imported zeros... -->\n",
    "<!-- But in general one may need special imports for the next -->\n",
    "<!-- code segments to execute properly. -->"
   ]
  },
  {
   "cell_type": "code",
   "execution_count": 1,
   "metadata": {
    "collapsed": false
   },
   "outputs": [],
   "source": [
    "# Inline plotting inne i jupyter!\n",
    "%matplotlib inline\n",
    "\n",
    "# Importerer numeriske metoder vi trenger\n",
    "from pylab import *\n",
    "\n",
    "# Parametrar\n",
    "k  = 0.1    # Forandringsskalering\n",
    "a  = 4.     # Vekst parameter\n",
    "p  = 2.     # Antibiotikastyrke\n",
    "\n",
    "y0 = 6.     # Bakterier ved t = 0\n",
    "\n",
    "dt = 0.4    # Tidssteg\n",
    "tstop = 10  # Hvor lenge skall simuleringen vare?\n",
    "N = int(ceil(tstop/dt))\t# Lengde på liste \n",
    "\n",
    "# Initialiserer lister som skall ha løsningene\n",
    "y = zeros(N+1)\n",
    "t = linspace(0, tstop, N+1)\n",
    "\n",
    "# Setter første elementet i listene til utgangsfarten og utgangshøyden \n",
    "y[0] = y0\n",
    "\n",
    "# Algoritmen for å løse for hvert tidssteg\n",
    "for i in range(N):\n",
    "    y[i+1] = y[i] + k*y[i]*(a-p*t[i])*dt\n",
    "\n",
    "# Plotter posisjonen\n",
    "plot(t, y)\n",
    "grid()\n",
    "show()"
   ]
  },
  {
   "cell_type": "markdown",
   "metadata": {},
   "source": [
    "## Oppgaver\n",
    "1. Lek litt med parametrene $k$, $a$, $p$ og $y0$. Hva skjer med løsningen når disse forandres.\n",
    "\n",
    "2. Lag en array/vektor som gir deg den eksakte løsningen. Se boken for denne.\n",
    "\n",
    "3. Beregn feilen for alle tidssteg $i$ til den numeriske løsningen gjennom\n",
    "  følgene formel:\n",
    "  $e^i_{error}=\\sqrt{(y^i_{approx}-y^i_{exact})^2}$. Lagre feilen i en egen array.\n",
    "\n",
    "4. Inkludere den eksakte løsningen og feilen i grafen og plotte\n",
    "  disse for intervallet $x\\in[0,10]$. \n",
    "\n",
    "5. Beregn den totale felen $e_{tot}$ gjennom $e_{tot}=\\frac{1}{N}\\sum^i_ie^i_{error}$\n",
    "  hvor $N$ er antal diskrete punkter og plotte den for 4 ulike $\\Delta t=[0.4,0.2,0.1,0.05]$."
   ]
  }
 ],
 "metadata": {
  "kernelspec": {
   "display_name": "Python 2",
   "language": "python",
   "name": "python2"
  },
  "language_info": {
   "codemirror_mode": {
    "name": "ipython",
    "version": 2
   },
   "file_extension": ".py",
   "mimetype": "text/x-python",
   "name": "python",
   "nbconvert_exporter": "python",
   "pygments_lexer": "ipython2",
   "version": "2.7.10"
  }
 },
 "nbformat": 4,
 "nbformat_minor": 0
}
